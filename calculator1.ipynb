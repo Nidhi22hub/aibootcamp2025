{
  "nbformat": 4,
  "nbformat_minor": 0,
  "metadata": {
    "colab": {
      "provenance": []
    },
    "kernelspec": {
      "name": "python3",
      "display_name": "Python 3"
    },
    "language_info": {
      "name": "python"
    }
  },
  "cells": [
    {
      "cell_type": "code",
      "execution_count": null,
      "metadata": {
        "colab": {
          "base_uri": "https://localhost:8080/"
        },
        "id": "FA5IfJKEUPG_",
        "outputId": "1528b84d-cf5a-49c2-e205-7207578759ed"
      },
      "outputs": [
        {
          "output_type": "stream",
          "name": "stdout",
          "text": [
            "\n",
            "Select operation:\n",
            "1. Add\n",
            "2. Subtract\n",
            "3. Multiply\n",
            "4. Divide\n",
            "5. Exit\n"
          ]
        }
      ],
      "source": [
        "def add(x, y):\n",
        "    return x + y\n",
        "\n",
        "def subtract(x, y):\n",
        "    return x - y\n",
        "\n",
        "def multiply(x, y):\n",
        "    return x * y\n",
        "\n",
        "def divide(x, y):\n",
        "    if y == 0:\n",
        "        return \"Error! Division by zero.\"\n",
        "    return x / y\n",
        "\n",
        "def calculator():\n",
        "    while True:\n",
        "        print(\"\\nSelect operation:\")\n",
        "        print(\"1. Add\")\n",
        "        print(\"2. Subtract\")\n",
        "        print(\"3. Multiply\")\n",
        "        print(\"4. Divide\")\n",
        "        print(\"5. Exit\")\n",
        "\n",
        "        choice = input(\"Enter choice(1/2/3/4/5): \")\n",
        "\n",
        "        if choice == '5':\n",
        "            print(\"Exiting calculator. Goodbye!\")\n",
        "            break\n",
        "\n",
        "        if choice in ['1', '2', '3', '4']:\n",
        "            try:\n",
        "                num1 = float(input(\"Enter first number: \"))\n",
        "                num2 = float(input(\"Enter second number: \"))\n",
        "            except ValueError:\n",
        "                print(\"Invalid input. Please enter numeric values.\")\n",
        "                continue\n",
        "\n",
        "            if choice == '1':\n",
        "                print(f\"{num1} + {num2} = {add(num1, num2)}\")\n",
        "            elif choice == '2':\n",
        "                print(f\"{num1} - {num2} = {subtract(num1, num2)}\")\n",
        "            elif choice == '3':\n",
        "                print(f\"{num1} * {num2} = {multiply(num1, num2)}\")\n",
        "            elif choice == '4':\n",
        "                print(f\"{num1} / {num2} = {divide(num1, num2)}\")\n",
        "        else:\n",
        "            print(\"Invalid choice. Please select a valid operation.\")\n",
        "\n",
        "calculator()\n"
      ]
    }
  ]
}